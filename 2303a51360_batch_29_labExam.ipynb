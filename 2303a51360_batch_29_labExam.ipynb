{
  "nbformat": 4,
  "nbformat_minor": 0,
  "metadata": {
    "colab": {
      "provenance": [],
      "authorship_tag": "ABX9TyPkuJObaLCmtdW+BmKepN2o",
      "include_colab_link": true
    },
    "kernelspec": {
      "name": "python3",
      "display_name": "Python 3"
    },
    "language_info": {
      "name": "python"
    }
  },
  "cells": [
    {
      "cell_type": "markdown",
      "metadata": {
        "id": "view-in-github",
        "colab_type": "text"
      },
      "source": [
        "<a href=\"https://colab.research.google.com/github/AkshithaNampalli/23CSBTB29/blob/main/2303a51360_batch_29_labExam.ipynb\" target=\"_parent\"><img src=\"https://colab.research.google.com/assets/colab-badge.svg\" alt=\"Open In Colab\"/></a>"
      ]
    },
    {
      "cell_type": "code",
      "execution_count": 2,
      "metadata": {
        "colab": {
          "base_uri": "https://localhost:8080/"
        },
        "id": "Vy3Rssf377Mg",
        "outputId": "99a0966a-3b9f-4e47-bfc0-e39915bd5c41"
      },
      "outputs": [
        {
          "output_type": "stream",
          "name": "stdout",
          "text": [
            "Index(['credit.policy', 'purpose', 'int.rate', 'installment', 'log.annual.inc',\n",
            "       'dti', 'fico', 'days.with.cr.line', 'revol.bal', 'revol.util',\n",
            "       'inq.last.6mths', 'delinq.2yrs', 'pub.rec', 'not.fully.paid'],\n",
            "      dtype='object')\n",
            "Predictions: [0 0 0 0 0]\n",
            "Random Forest Accuracy: 0.837160751565762\n"
          ]
        }
      ],
      "source": [
        "import pandas as pd\n",
        "from sklearn.model_selection import train_test_split\n",
        "from sklearn.ensemble import RandomForestClassifier\n",
        "from sklearn.metrics import accuracy_score\n",
        "from sklearn.preprocessing import LabelEncoder\n",
        "\n",
        "data = pd.read_csv('/content/random_forest.csv')\n",
        "\n",
        "print(data.columns)\n",
        "\n",
        "label_encoder = LabelEncoder()\n",
        "\n",
        "data['purpose'] = label_encoder.fit_transform(data['purpose'])\n",
        "\n",
        "X = data[['credit.policy', 'purpose', 'int.rate', 'installment', 'log.annual.inc', 'dti', 'fico', 'days.with.cr.line', 'revol.bal', 'revol.util', 'inq.last.6mths', 'delinq.2yrs', 'pub.rec']].values\n",
        "y = data['not.fully.paid'].values\n",
        "\n",
        "X_train, X_test, y_train, y_test = train_test_split(X, y, test_size=0.2, random_state=42)\n",
        "model = RandomForestClassifier(n_estimators=10)\n",
        "model.fit(X_train, y_train)\n",
        "predictions = model.predict(X_test)\n",
        "accuracy = accuracy_score(y_test, predictions)\n",
        "print(\"Predictions:\", predictions[:5])\n",
        "print(\"Random Forest Accuracy:\", accuracy)"
      ]
    }
  ]
}